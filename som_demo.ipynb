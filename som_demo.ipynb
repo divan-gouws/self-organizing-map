{
 "cells": [
  {
   "cell_type": "markdown",
   "metadata": {},
   "source": [
    "http://www.ai-junkie.com/ann/som/som1.html"
   ]
  },
  {
   "cell_type": "code",
   "execution_count": 24,
   "metadata": {},
   "outputs": [],
   "source": [
    "import math\n",
    "import random\n",
    "import numpy as np\n",
    "import matplotlib.pyplot as plt"
   ]
  },
  {
   "cell_type": "code",
   "execution_count": 25,
   "metadata": {},
   "outputs": [],
   "source": [
    "random.seed(42)\n",
    "\n",
    "# this refers to the amount of columns in the input dataset\n",
    "input_dimension = 3\n",
    "\n",
    "# these dimensions govern the size of the SOM grid\n",
    "output_dimension_x = 40\n",
    "output_dimension_y = 40\n",
    "\n",
    "# training iterations\n",
    "number_of_iterations = 1000\n",
    "\n",
    "# intial radius\n",
    "sigma = min(output_dimension_x, output_dimension_y) / 2\n",
    "\n",
    "# initial learning rate\n",
    "alpha = 0.2 "
   ]
  },
  {
   "cell_type": "code",
   "execution_count": 26,
   "metadata": {},
   "outputs": [],
   "source": [
    "red = [1, 0, 0]\n",
    "green = [0, 1, 0]\n",
    "blue = [0, 0, 1]\n",
    "dark_green = [0, 0.5, 0.25]\n",
    "dark_blue = [0, 0, 0.5]\n",
    "yellow = [1, 1, 0.2]\n",
    "orange = [1, 0.4, 0.25]\n",
    "purple = [1, 0, 1]\n",
    "\n",
    "train_data = [red, green, blue, dark_green, dark_blue, yellow, orange, purple]"
   ]
  },
  {
   "cell_type": "code",
   "execution_count": 27,
   "metadata": {},
   "outputs": [],
   "source": [
    "def euclidean_distance(vector_1, vector_2):\n",
    "    '''\n",
    "    generic euclidean distance function for any 2 vectors\n",
    "    '''\n",
    "    return np.linalg.norm(vector_1 - vector_2)\n",
    "\n",
    "def calculate_decay(iteration, num_iterations):\n",
    "    '''\n",
    "    this function is meant to slow down the learning rate\n",
    "    '''\n",
    "    return np.exp(-iteration / num_iterations)\n",
    "\n",
    "def calculate_neighbour_penalty(distance, sigma):\n",
    "    '''\n",
    "    caculates bmu's influence based on distance\n",
    "    '''\n",
    "    return np.exp(- distance ** 2 / (2 * (sigma ** 2)))\n",
    "\n",
    "def find_bmu(data_vector, som_grid):\n",
    "    '''\n",
    "    finds the best matching unit\n",
    "    '''\n",
    "    # intialize variable to track smallest distance\n",
    "    smallest_distance = None\n",
    "    # iterate over all rows in map\n",
    "    for x_pos, row in enumerate(som_grid):\n",
    "        # iterate over entries in row\n",
    "        for y_pos, vector in enumerate(row):\n",
    "            # distance between data vector and the weights of the current node\n",
    "            distance = euclidean_distance(data_vector, vector)\n",
    "            # check against and update smallest distance\n",
    "            if (smallest_distance is None) or (distance < smallest_distance):\n",
    "                    # update the shortest distance to the new shortest distance found\n",
    "                    smallest_distance = distance\n",
    "                    # set this node as the best matching unit (bmu)\n",
    "                    bmu_position = np.array([x_pos, y_pos])\n",
    "    return bmu_position\n",
    "\n",
    "def update_weights(data_vector, bmu_position, som_grid, radius, learning_rate):\n",
    "    '''\n",
    "    updates weights of the SOM grid\n",
    "    '''\n",
    "    # iterate over all rows in the map \n",
    "    for x_pos, row in enumerate(som_grid):\n",
    "        # iterate over entries in row\n",
    "        for y_pos, vector in enumerate(row):\n",
    "            # find the current position of the node\n",
    "            current_position = np.array([x_pos, y_pos])\n",
    "            # get distance from current node to bmu\n",
    "            distance_to_bmu = euclidean_distance(current_position, bmu_position)\n",
    "            # check whether current node is in the radius of the bmu\n",
    "            if distance_to_bmu <= radius:\n",
    "                # set the penalty coefficient proportional to how far the current (in radius) node is to the bmu\n",
    "                node_penalty = calculate_neighbour_penalty(distance_to_bmu, radius)\n",
    "                # update the node's weights\n",
    "                som_grid[x_pos][y_pos] += node_penalty * learning_rate * (data_vector - vector)\n",
    "    return som_grid"
   ]
  },
  {
   "cell_type": "code",
   "execution_count": 30,
   "metadata": {},
   "outputs": [],
   "source": [
    "# 0. Temp step : synthetic data\n",
    "#train_data = np.random.rand(50, input_dimension)\n",
    "\n",
    "# 1. Initialize rectangular grid with random weights\n",
    "som_grid = np.random.rand(output_dimension_x, output_dimension_y, input_dimension)\n",
    "\n",
    "# Training loop\n",
    "for iteration in range(number_of_iterations):\n",
    "    # Auxiliary - set the learning rate to decay with each iteration\n",
    "    learning_rate = alpha * calculate_decay(iteration, number_of_iterations)\n",
    "\n",
    "    # 2. Choose a random vector form the dataset and present it to the lattice\n",
    "    current_vector = train_data[random.randrange(0, len(train_data))]\n",
    "\n",
    "    # 3. Find bmu (best matching unit)\n",
    "    bmu_position = find_bmu(current_vector, som_grid)\n",
    "\n",
    "    # 4. Calculate the radius of the neighbourhood of the BMU\n",
    "    radius = sigma * calculate_decay(iteration, number_of_iterations)\n",
    "    \n",
    "    # 5. Weights of nodes within the radius are updated to make them more like the BMU. Closer nodes are adjusted more\n",
    "    som_grid = update_weights(current_vector, bmu_position, som_grid, radius, learning_rate)"
   ]
  },
  {
   "cell_type": "code",
   "execution_count": null,
   "metadata": {
    "jupyter": {
     "source_hidden": true
    }
   },
   "outputs": [],
   "source": [
    "plot_grid = np.reshape(som_grid, (output_dimension_x*output_dimension_y, input_dimension))\n",
    "\n",
    "plt.scatter(*zip(*train_data))\n",
    "plt.plot(*zip(*plot_grid))"
   ]
  },
  {
   "cell_type": "code",
   "execution_count": 31,
   "metadata": {},
   "outputs": [
    {
     "data": {
      "text/plain": [
       "<matplotlib.image.AxesImage at 0x7fa822e340d0>"
      ]
     },
     "execution_count": 31,
     "metadata": {},
     "output_type": "execute_result"
    },
    {
     "data": {
      "image/png": "[encoded data removed]",
      "text/plain": [
       "<Figure size 432x288 with 1 Axes>"
      ]
     },
     "metadata": {
      "needs_background": "light"
     },
     "output_type": "display_data"
    }
   ],
   "source": [
    "plt.imshow(som_grid, interpolation='nearest', \n",
    "                 extent=[0.5, 0.5 + output_dimension_x, 0.5, 0.5 + output_dimension_y])"
   ]
  },
  {
   "cell_type": "code",
   "execution_count": null,
   "metadata": {},
   "outputs": [],
   "source": []
  }
 ],
 "metadata": {
  "kernelspec": {
   "display_name": "Python 3",
   "language": "python",
   "name": "python3"
  },
  "language_info": {
   "codemirror_mode": {
    "name": "ipython",
    "version": 3
   },
   "file_extension": ".py",
   "mimetype": "text/x-python",
   "name": "python",
   "nbconvert_exporter": "python",
   "pygments_lexer": "ipython3",
   "version": "3.8.5"
  }
 },
 "nbformat": 4,
 "nbformat_minor": 4
}
